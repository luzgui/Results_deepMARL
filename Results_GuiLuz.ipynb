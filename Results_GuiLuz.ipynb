{
 "cells": [
  {
   "cell_type": "markdown",
   "id": "a2992b48",
   "metadata": {},
   "source": [
    "# Multiagent reinforcement learning for load schedulling\n"
   ]
  },
  {
   "cell_type": "markdown",
   "id": "a55e09e0",
   "metadata": {},
   "source": [
    "Aqui podemos ver tudo o que queremos\n"
   ]
  },
  {
   "cell_type": "markdown",
   "id": "839c3ecd",
   "metadata": {},
   "source": [
    "$x²$"
   ]
  },
  {
   "cell_type": "code",
   "execution_count": null,
   "id": "dfe965cc",
   "metadata": {},
   "outputs": [],
   "source": []
  }
 ],
 "metadata": {
  "kernelspec": {
   "display_name": "Python 3 (ipykernel)",
   "language": "python",
   "name": "python3"
  },
  "language_info": {
   "codemirror_mode": {
    "name": "ipython",
    "version": 3
   },
   "file_extension": ".py",
   "mimetype": "text/x-python",
   "name": "python",
   "nbconvert_exporter": "python",
   "pygments_lexer": "ipython3",
   "version": "3.9.7"
  }
 },
 "nbformat": 4,
 "nbformat_minor": 5
}
